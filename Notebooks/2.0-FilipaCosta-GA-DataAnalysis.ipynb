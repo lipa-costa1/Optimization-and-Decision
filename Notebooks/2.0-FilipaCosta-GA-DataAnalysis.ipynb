{
 "cells": [
  {
   "cell_type": "code",
   "execution_count": 8,
   "id": "ce201e83",
   "metadata": {
    "scrolled": true
   },
   "outputs": [
    {
     "name": "stdout",
     "output_type": "stream",
     "text": [
      "     pop_size   elite_size   mut_rate  mut_type  cross_type   time_avg (s)  \\\n",
      "0          80           30     0.0001      swap       order       9.884645   \n",
      "1          80           30     0.0001      swap       cycle       2.521697   \n",
      "2          80           30     0.0001    invert       order       9.603121   \n",
      "3          80           30     0.0001    invert       cycle       2.903053   \n",
      "4          80           30     0.0001    insert       order       9.554364   \n",
      "..        ...          ...        ...       ...         ...            ...   \n",
      "187       300           60     0.1000    invert       cycle     197.002859   \n",
      "188       300           60     0.1000    insert       order     196.099110   \n",
      "189       300           60     0.1000    insert       cycle     197.674795   \n",
      "190       300           60     0.1000      disp       order     155.339636   \n",
      "191       300           60     0.1000      disp       cycle     197.296876   \n",
      "\n",
      "      best_distance_avg    nr_generations_avg  \n",
      "0               26344.2                 119.6  \n",
      "1               37461.4                  28.4  \n",
      "2               26447.8                 115.2  \n",
      "3               36388.2                  33.4  \n",
      "4               25325.6                 113.4  \n",
      "..                  ...                   ...  \n",
      "187             20247.2                 250.0  \n",
      "188             16319.2                 250.0  \n",
      "189             21028.0                 250.0  \n",
      "190             19819.6                 198.6  \n",
      "191             21391.2                 250.0  \n",
      "\n",
      "[192 rows x 8 columns]\n"
     ]
    }
   ],
   "source": [
    "import pandas as pd\n",
    "\n",
    "p1 = pd.read_csv ('resultsGAp1.csv')   #read the csv file for p1\n",
    "print (p1)"
   ]
  },
  {
   "cell_type": "markdown",
   "id": "f4e8da3b",
   "metadata": {},
   "source": [
    "# Problema 1 (CH130)"
   ]
  },
  {
   "cell_type": "code",
   "execution_count": 9,
   "id": "21580d42",
   "metadata": {
    "scrolled": false
   },
   "outputs": [
    {
     "data": {
      "text/html": [
       "<div>\n",
       "<style scoped>\n",
       "    .dataframe tbody tr th:only-of-type {\n",
       "        vertical-align: middle;\n",
       "    }\n",
       "\n",
       "    .dataframe tbody tr th {\n",
       "        vertical-align: top;\n",
       "    }\n",
       "\n",
       "    .dataframe thead th {\n",
       "        text-align: right;\n",
       "    }\n",
       "</style>\n",
       "<table border=\"1\" class=\"dataframe\">\n",
       "  <thead>\n",
       "    <tr style=\"text-align: right;\">\n",
       "      <th></th>\n",
       "      <th>pop_size</th>\n",
       "      <th>elite_size</th>\n",
       "      <th>mut_rate</th>\n",
       "      <th>time_avg (s)</th>\n",
       "      <th>best_distance_avg</th>\n",
       "      <th>nr_generations_avg</th>\n",
       "    </tr>\n",
       "  </thead>\n",
       "  <tbody>\n",
       "    <tr>\n",
       "      <th>count</th>\n",
       "      <td>192.000000</td>\n",
       "      <td>192.000000</td>\n",
       "      <td>192.000000</td>\n",
       "      <td>192.000000</td>\n",
       "      <td>192.000000</td>\n",
       "      <td>192.000000</td>\n",
       "    </tr>\n",
       "    <tr>\n",
       "      <th>mean</th>\n",
       "      <td>176.666667</td>\n",
       "      <td>45.000000</td>\n",
       "      <td>0.027775</td>\n",
       "      <td>84.367925</td>\n",
       "      <td>27636.946875</td>\n",
       "      <td>136.125000</td>\n",
       "    </tr>\n",
       "    <tr>\n",
       "      <th>std</th>\n",
       "      <td>92.012595</td>\n",
       "      <td>15.039216</td>\n",
       "      <td>0.041988</td>\n",
       "      <td>261.829126</td>\n",
       "      <td>7112.480149</td>\n",
       "      <td>80.393856</td>\n",
       "    </tr>\n",
       "    <tr>\n",
       "      <th>min</th>\n",
       "      <td>80.000000</td>\n",
       "      <td>30.000000</td>\n",
       "      <td>0.000100</td>\n",
       "      <td>1.770680</td>\n",
       "      <td>15955.000000</td>\n",
       "      <td>25.800000</td>\n",
       "    </tr>\n",
       "    <tr>\n",
       "      <th>25%</th>\n",
       "      <td>80.000000</td>\n",
       "      <td>30.000000</td>\n",
       "      <td>0.000775</td>\n",
       "      <td>8.411066</td>\n",
       "      <td>21223.250000</td>\n",
       "      <td>50.300000</td>\n",
       "    </tr>\n",
       "    <tr>\n",
       "      <th>50%</th>\n",
       "      <td>150.000000</td>\n",
       "      <td>45.000000</td>\n",
       "      <td>0.005500</td>\n",
       "      <td>32.403040</td>\n",
       "      <td>25923.600000</td>\n",
       "      <td>133.900000</td>\n",
       "    </tr>\n",
       "    <tr>\n",
       "      <th>75%</th>\n",
       "      <td>300.000000</td>\n",
       "      <td>60.000000</td>\n",
       "      <td>0.032500</td>\n",
       "      <td>63.914457</td>\n",
       "      <td>34025.950000</td>\n",
       "      <td>214.500000</td>\n",
       "    </tr>\n",
       "    <tr>\n",
       "      <th>max</th>\n",
       "      <td>300.000000</td>\n",
       "      <td>60.000000</td>\n",
       "      <td>0.100000</td>\n",
       "      <td>2609.166959</td>\n",
       "      <td>39590.000000</td>\n",
       "      <td>250.000000</td>\n",
       "    </tr>\n",
       "  </tbody>\n",
       "</table>\n",
       "</div>"
      ],
      "text/plain": [
       "         pop_size   elite_size    mut_rate   time_avg (s)   best_distance_avg  \\\n",
       "count  192.000000   192.000000  192.000000     192.000000          192.000000   \n",
       "mean   176.666667    45.000000    0.027775      84.367925        27636.946875   \n",
       "std     92.012595    15.039216    0.041988     261.829126         7112.480149   \n",
       "min     80.000000    30.000000    0.000100       1.770680        15955.000000   \n",
       "25%     80.000000    30.000000    0.000775       8.411066        21223.250000   \n",
       "50%    150.000000    45.000000    0.005500      32.403040        25923.600000   \n",
       "75%    300.000000    60.000000    0.032500      63.914457        34025.950000   \n",
       "max    300.000000    60.000000    0.100000    2609.166959        39590.000000   \n",
       "\n",
       "         nr_generations_avg  \n",
       "count            192.000000  \n",
       "mean             136.125000  \n",
       "std               80.393856  \n",
       "min               25.800000  \n",
       "25%               50.300000  \n",
       "50%              133.900000  \n",
       "75%              214.500000  \n",
       "max              250.000000  "
      ]
     },
     "execution_count": 9,
     "metadata": {},
     "output_type": "execute_result"
    }
   ],
   "source": [
    "p1.describe() ##a minima distancia que atingimos é 15955. o desvio padrão é alto (7112), ou seja, a distancia depende muito da escolha dos hyperparametros.\n",
    "#a média e mediana do numero de generations ronda os 130, o que significa que o algoritmo na maioria das vezes para antes das 250 generations fixas. provavelmente está a haver pouca exploração das soluções, pois isto significa que o algoritmo ficou preso num mínimo local (que sabemos que não é global, pois a solução ótima é 6 mil e tal)."
   ]
  },
  {
   "cell_type": "markdown",
   "id": "f3fcb174",
   "metadata": {},
   "source": [
    "# 1.1 Correlação entre numéricas (todas exceto mut_type e cross_type)"
   ]
  },
  {
   "cell_type": "code",
   "execution_count": 28,
   "id": "884566d8",
   "metadata": {},
   "outputs": [
    {
     "data": {
      "text/plain": [
       "(array([0.5, 1.5, 2.5, 3.5, 4.5, 5.5]),\n",
       " [Text(0.5, 0, 'pop_size'),\n",
       "  Text(1.5, 0, ' elite_size'),\n",
       "  Text(2.5, 0, ' mut_rate'),\n",
       "  Text(3.5, 0, ' time_avg (s)'),\n",
       "  Text(4.5, 0, ' best_distance_avg'),\n",
       "  Text(5.5, 0, '  nr_generations_avg')])"
      ]
     },
     "execution_count": 28,
     "metadata": {},
     "output_type": "execute_result"
    },
    {
     "data": {
      "image/png": "[encoded data removed]",
      "text/plain": [
       "<Figure size 864x360 with 2 Axes>"
      ]
     },
     "metadata": {
      "needs_background": "light"
     },
     "output_type": "display_data"
    }
   ],
   "source": [
    "import matplotlib.pyplot as plt\n",
    "import seaborn as sns\n",
    "\n",
    "plt.subplots(figsize=(12,5))\n",
    "gender_correlation=p1.corr()\n",
    "sns.heatmap(gender_correlation,annot=True,cmap='RdPu')\n",
    "plt.title('Correlation between the numerical variables')\n",
    "plt.xticks(rotation=45)                                           \n",
    "\n",
    "#daqui vemos que a variável que tem mais correlação com a solução é o nr de generations e o pop size. no entanto, é negativa. \n",
    "#ou seja, quanto maior a população, menor a distancia, e melhor a solução.\n",
    "#quanto maior os nr de gerações, menor a distancia, e melhor a solução.\n",
    "#nota que, quanto maior a mutation rate, maior o nr de gerações.\n",
    "\n",
    "#Assim, aumentando a mutation rate, aumenta o nr de gerações, que diminui a distância. \n",
    "#Este facto, faz sentido pois se aumentarmos a mutation rate, aumentamos também a exploração de diferente soluções,\n",
    "#o que faz com que o algoritmo tenha necessidade de correr durante mais tempo e consiga atingir melhores soluções."
   ]
  },
  {
   "cell_type": "markdown",
   "id": "c900c718",
   "metadata": {},
   "source": [
    "# 1.2. Influência entre Mut_type e Cross_type e Distância\n",
    "\n",
    "Para ver a influencia que as categóricas (mut_type) e (cross_type) tem na variável resposta, distância,\n",
    "vamos fazer um teste não paramétrico (kruskal wallis) para comparaçao das médias."
   ]
  },
  {
   "cell_type": "code",
   "execution_count": 144,
   "id": "74e048a8",
   "metadata": {},
   "outputs": [],
   "source": [
    "#Mutation type\n",
    "searchString = \"swap\"\n",
    "p1_swap_only=p1.loc[p1[' mut_type'].str.contains(searchString, regex=False)]\n",
    "searchString = \"invert\"\n",
    "p1_invert_only=p1.loc[p1[' mut_type'].str.contains(searchString, regex=False)]\n",
    "searchString = \"insert\"\n",
    "p1_insert_only=p1.loc[p1[' mut_type'].str.contains(searchString, regex=False)]\n",
    "searchString = \"disp\"\n",
    "p1_disp_only=p1.loc[p1[' mut_type'].str.contains(searchString, regex=False)]\n",
    "\n",
    "#Crossover type\n",
    "searchString = \"order\"\n",
    "p1_order_only=p1.loc[p1[' cross_type'].str.contains(searchString, regex=False)]\n",
    "searchString = \"cycle\"\n",
    "p1_cycle=p1.loc[p1[' cross_type'].str.contains(searchString, regex=False)]\n",
    "\n",
    "#Population Size\n",
    "p1_80_only=p1.loc[p1['pop_size'] == 80]\n",
    "p1_150_only=p1.loc[p1['pop_size'] == 150]\n",
    "p1_300_only=p1.loc[p1['pop_size'] == 300]\n",
    "\n",
    "\n",
    "#Elite Size\n",
    "p1_30_only=p1.loc[p1[' elite_size'] == 30]\n",
    "p1_60_only=p1.loc[p1[' elite_size'] == 60]\n",
    "\n",
    "\n",
    "#Mutation rate\n",
    "p1_mut1_only=p1.loc[p1[' mut_rate'] == 0.0001]\n",
    "p1_mut2_only=p1.loc[p1[' mut_rate'] == 0.001]\n",
    "p1_mut3_only=p1.loc[p1[' mut_rate'] == 0.01]\n",
    "p1_mut4_only=p1.loc[p1[' mut_rate'] == 0.1]"
   ]
  },
  {
   "cell_type": "code",
   "execution_count": 111,
   "id": "72d137be",
   "metadata": {},
   "outputs": [
    {
     "data": {
      "text/plain": [
       "KruskalResult(statistic=0.6127887521588491, pvalue=0.8934985413441241)"
      ]
     },
     "execution_count": 111,
     "metadata": {},
     "output_type": "execute_result"
    }
   ],
   "source": [
    "from scipy import stats\n",
    "x = p1_swap_only[' best_distance_avg']\n",
    "y = p1_invert_only[' best_distance_avg']\n",
    "z = p1_insert_only[' best_distance_avg']\n",
    "w = p1_disp_only[' best_distance_avg']\n",
    "stats.kruskal(x, y, z, w)\n",
    "\n",
    "#Como o p-value é muito grande, podemos concluir que não existem diferenças significativas entre os grupos. no significant differences between the groups.\n",
    "#Logo, o tipo de mutação não parece influenciar muito a distância."
   ]
  },
  {
   "cell_type": "code",
   "execution_count": 113,
   "id": "208afd6d",
   "metadata": {
    "scrolled": true
   },
   "outputs": [
    {
     "data": {
      "text/plain": [
       "KruskalResult(statistic=74.677036107513, pvalue=5.543722286555121e-18)"
      ]
     },
     "execution_count": 113,
     "metadata": {},
     "output_type": "execute_result"
    }
   ],
   "source": [
    "x = p1_order_only[' best_distance_avg']\n",
    "y = p1_cycle_only[' best_distance_avg']\n",
    "stats.kruskal(x, y)\n",
    "\n",
    "#Como o p-value é menor que 5%, podemos concluir que existem diferenças significativas entre os grupos.\n",
    "#Logo, o tipo de crossover parece influenciar muito a distância."
   ]
  },
  {
   "cell_type": "markdown",
   "id": "1e0a905a",
   "metadata": {},
   "source": [
    "# 1.3. Análise por cada hyper-parametro\n"
   ]
  },
  {
   "cell_type": "markdown",
   "id": "d1a50f1d",
   "metadata": {},
   "source": [
    "## 1.3.1. Análise por tipo de crossover"
   ]
  },
  {
   "cell_type": "code",
   "execution_count": 123,
   "id": "f77ed46a",
   "metadata": {},
   "outputs": [
    {
     "data": {
      "text/plain": [
       "count       96.000000\n",
       "mean     23127.204167\n",
       "std       5333.526648\n",
       "min      15955.000000\n",
       "25%      19637.000000\n",
       "50%      21381.800000\n",
       "75%      24845.450000\n",
       "max      37573.200000\n",
       "Name:  best_distance_avg, dtype: float64"
      ]
     },
     "execution_count": 123,
     "metadata": {},
     "output_type": "execute_result"
    }
   ],
   "source": [
    "p1_order_only[' best_distance_avg'].describe()"
   ]
  },
  {
   "cell_type": "code",
   "execution_count": 118,
   "id": "acedee84",
   "metadata": {},
   "outputs": [
    {
     "data": {
      "text/plain": [
       "count       96.000000\n",
       "mean     32146.689583\n",
       "std       5670.715787\n",
       "min      19673.200000\n",
       "25%      29146.200000\n",
       "50%      33299.300000\n",
       "75%      36676.400000\n",
       "max      39590.000000\n",
       "Name:  best_distance_avg, dtype: float64"
      ]
     },
     "execution_count": 118,
     "metadata": {},
     "output_type": "execute_result"
    }
   ],
   "source": [
    "p1_cycle_only[' best_distance_avg'].describe()"
   ]
  },
  {
   "cell_type": "code",
   "execution_count": 120,
   "id": "9a1a9c8d",
   "metadata": {},
   "outputs": [],
   "source": [
    "##Analisando por tipo de crossover, parece que o order crossover traz melhores resultados. O máximo de distancia atingido é menor, \n",
    "#a média é menor, o desvio padrão é menor, e é com este que se atinge o valor mínimo de 15955.\n",
    "\n",
    "#Por isso, se calhar é melhor fazer mais runs com o order crossover."
   ]
  },
  {
   "cell_type": "markdown",
   "id": "9db1ac08",
   "metadata": {},
   "source": [
    "## 1.3.2. Análise por tipo de mutação"
   ]
  },
  {
   "cell_type": "code",
   "execution_count": 124,
   "id": "27d01d8d",
   "metadata": {},
   "outputs": [
    {
     "data": {
      "text/plain": [
       "count       48.000000\n",
       "mean     27965.200000\n",
       "std       6908.398312\n",
       "min      16724.000000\n",
       "25%      21747.100000\n",
       "50%      26200.600000\n",
       "75%      34735.200000\n",
       "max      39239.800000\n",
       "Name:  best_distance_avg, dtype: float64"
      ]
     },
     "execution_count": 124,
     "metadata": {},
     "output_type": "execute_result"
    }
   ],
   "source": [
    "p1_swap_only[' best_distance_avg'].describe()"
   ]
  },
  {
   "cell_type": "code",
   "execution_count": 125,
   "id": "d3dd4891",
   "metadata": {},
   "outputs": [
    {
     "data": {
      "text/plain": [
       "count       48.000000\n",
       "mean     27517.554167\n",
       "std       6960.366486\n",
       "min      16319.200000\n",
       "25%      21005.050000\n",
       "50%      25231.800000\n",
       "75%      33760.650000\n",
       "max      39100.800000\n",
       "Name:  best_distance_avg, dtype: float64"
      ]
     },
     "execution_count": 125,
     "metadata": {},
     "output_type": "execute_result"
    }
   ],
   "source": [
    "p1_insert_only[' best_distance_avg'].describe()"
   ]
  },
  {
   "cell_type": "code",
   "execution_count": 126,
   "id": "991e609b",
   "metadata": {},
   "outputs": [
    {
     "data": {
      "text/plain": [
       "count       48.000000\n",
       "mean     27187.575000\n",
       "std       7573.341894\n",
       "min      15955.000000\n",
       "25%      19859.500000\n",
       "50%      25625.800000\n",
       "75%      34267.750000\n",
       "max      39590.000000\n",
       "Name:  best_distance_avg, dtype: float64"
      ]
     },
     "execution_count": 126,
     "metadata": {},
     "output_type": "execute_result"
    }
   ],
   "source": [
    "p1_invert_only[' best_distance_avg'].describe()"
   ]
  },
  {
   "cell_type": "code",
   "execution_count": 127,
   "id": "e4d1f8bb",
   "metadata": {},
   "outputs": [
    {
     "data": {
      "text/plain": [
       "count       48.000000\n",
       "mean     27877.458333\n",
       "std       7187.516387\n",
       "min      16769.400000\n",
       "25%      21368.600000\n",
       "50%      25734.500000\n",
       "75%      33903.400000\n",
       "max      39517.800000\n",
       "Name:  best_distance_avg, dtype: float64"
      ]
     },
     "execution_count": 127,
     "metadata": {},
     "output_type": "execute_result"
    }
   ],
   "source": [
    "p1_disp_only[' best_distance_avg'].describe()"
   ]
  },
  {
   "cell_type": "code",
   "execution_count": 129,
   "id": "f83e8a21",
   "metadata": {},
   "outputs": [],
   "source": [
    "##Lá em cima, vimos que o tipo de mutação não parece influenciar a distância. \n",
    "#De facto, os valores médios são todos muito parecidos. O melhor valor médio e melhor valor mínimo é obtido com\n",
    "#invert mutation, apesar de esta ser também a que possui um maior desvio padrão na distância.\n",
    "#Mas como a distancia nao parece depender do tipo de mutação, pode-se fazer mais runs com a invert mutation."
   ]
  },
  {
   "cell_type": "markdown",
   "id": "f736cc1f",
   "metadata": {},
   "source": [
    "## 1.3.3. Análise por population size"
   ]
  },
  {
   "cell_type": "code",
   "execution_count": null,
   "id": "27c1ab6b",
   "metadata": {},
   "outputs": [],
   "source": [
    "p1_80_only=p1.loc[p1['pop_size'] == 80]\n",
    "p1_150_only=p1.loc[p1['pop_size'] == 150]\n",
    "p1_300_only=p1.loc[p1['pop_size'] == 300]\n",
    "\n",
    "\n",
    "#Elite Size\n",
    "p1_30_only=p1.loc[p1[' elite_size'] == 30]\n",
    "p1_60_only=p1.loc[p1[' elite_size'] == 60]\n",
    "\n",
    "\n",
    "#Mutation rate\n",
    "p1_mut1_only=p1.loc[p1[' mut_rate'] == 0.0001]\n",
    "p1_mut2_only=p1.loc[p1[' mut_rate'] == 0.001]\n",
    "p1_mut3_only=p1.loc[p1[' mut_rate'] == 0.01]\n",
    "p1_mut4_only=p1.loc[p1[' mut_rate'] == 0.1]"
   ]
  },
  {
   "cell_type": "code",
   "execution_count": 145,
   "id": "253b661f",
   "metadata": {},
   "outputs": [
    {
     "data": {
      "text/plain": [
       "count       64.000000\n",
       "mean     32370.575000\n",
       "std       6116.484507\n",
       "min      19441.400000\n",
       "25%      25990.300000\n",
       "50%      34239.300000\n",
       "75%      37531.050000\n",
       "max      39590.000000\n",
       "Name:  best_distance_avg, dtype: float64"
      ]
     },
     "execution_count": 145,
     "metadata": {},
     "output_type": "execute_result"
    }
   ],
   "source": [
    "p1_80_only[' best_distance_avg'].describe()"
   ]
  },
  {
   "cell_type": "code",
   "execution_count": 148,
   "id": "e6acd928",
   "metadata": {},
   "outputs": [
    {
     "data": {
      "text/plain": [
       "count       64.000000\n",
       "mean     26354.978125\n",
       "std       6593.676371\n",
       "min      16813.400000\n",
       "25%      21434.300000\n",
       "50%      23319.800000\n",
       "75%      33726.900000\n",
       "max      36350.200000\n",
       "Name:  best_distance_avg, dtype: float64"
      ]
     },
     "execution_count": 148,
     "metadata": {},
     "output_type": "execute_result"
    }
   ],
   "source": [
    "p1_150_only[' best_distance_avg'].describe()"
   ]
  },
  {
   "cell_type": "code",
   "execution_count": 149,
   "id": "fc9767e6",
   "metadata": {},
   "outputs": [
    {
     "data": {
      "text/plain": [
       "count       64.000000\n",
       "mean     24185.287500\n",
       "std       5995.383263\n",
       "min      15955.000000\n",
       "25%      19675.600000\n",
       "50%      21249.100000\n",
       "75%      31086.450000\n",
       "max      34111.000000\n",
       "Name:  best_distance_avg, dtype: float64"
      ]
     },
     "execution_count": 149,
     "metadata": {},
     "output_type": "execute_result"
    }
   ],
   "source": [
    "p1_300_only[' best_distance_avg'].describe()"
   ]
  },
  {
   "cell_type": "code",
   "execution_count": 150,
   "id": "4e4939a5",
   "metadata": {},
   "outputs": [],
   "source": [
    "#O population size, como vimos na tabela das correlações acima, era negativamente correlacionado com a distância, logo\n",
    "#um maior population size é melhor. \n",
    "#Além disso, possui melhores valores em todos os parâmetros."
   ]
  },
  {
   "cell_type": "markdown",
   "id": "df0d722a",
   "metadata": {},
   "source": [
    "## 1.3.4. Análise por elite size"
   ]
  },
  {
   "cell_type": "code",
   "execution_count": 152,
   "id": "0f348bdf",
   "metadata": {},
   "outputs": [
    {
     "data": {
      "text/plain": [
       "count       96.000000\n",
       "mean     26508.397917\n",
       "std       6716.879710\n",
       "min      16563.200000\n",
       "25%      21018.250000\n",
       "50%      24688.800000\n",
       "75%      33088.850000\n",
       "max      38035.600000\n",
       "Name:  best_distance_avg, dtype: float64"
      ]
     },
     "execution_count": 152,
     "metadata": {},
     "output_type": "execute_result"
    }
   ],
   "source": [
    "p1_30_only[' best_distance_avg'].describe()"
   ]
  },
  {
   "cell_type": "code",
   "execution_count": 153,
   "id": "6633c1f8",
   "metadata": {},
   "outputs": [
    {
     "data": {
      "text/plain": [
       "count       96.000000\n",
       "mean     28765.495833\n",
       "std       7349.606436\n",
       "min      15955.000000\n",
       "25%      21296.600000\n",
       "50%      31969.000000\n",
       "75%      34699.450000\n",
       "max      39590.000000\n",
       "Name:  best_distance_avg, dtype: float64"
      ]
     },
     "execution_count": 153,
     "metadata": {},
     "output_type": "execute_result"
    }
   ],
   "source": [
    "p1_60_only[' best_distance_avg'].describe()"
   ]
  },
  {
   "cell_type": "code",
   "execution_count": 160,
   "id": "b3311635",
   "metadata": {},
   "outputs": [],
   "source": [
    "###Como foi visto na tabela das correlações, não há grande diferença entre o elite_size e a distância."
   ]
  },
  {
   "cell_type": "markdown",
   "id": "0f2bcc49",
   "metadata": {},
   "source": [
    "## 1.3.5. Análise por mutation rate"
   ]
  },
  {
   "cell_type": "code",
   "execution_count": 155,
   "id": "88d76079",
   "metadata": {},
   "outputs": [
    {
     "data": {
      "text/plain": [
       "count       48.000000\n",
       "mean     30091.416667\n",
       "std       6560.702958\n",
       "min      19518.800000\n",
       "25%      23338.550000\n",
       "50%      33033.400000\n",
       "75%      35350.750000\n",
       "max      39590.000000\n",
       "Name:  best_distance_avg, dtype: float64"
      ]
     },
     "execution_count": 155,
     "metadata": {},
     "output_type": "execute_result"
    }
   ],
   "source": [
    "p1_mut1_only[' best_distance_avg'].describe()"
   ]
  },
  {
   "cell_type": "code",
   "execution_count": 156,
   "id": "15a43c44",
   "metadata": {},
   "outputs": [
    {
     "data": {
      "text/plain": [
       "count       48.000000\n",
       "mean     29716.670833\n",
       "std       6848.718285\n",
       "min      18285.400000\n",
       "25%      23196.850000\n",
       "50%      32029.000000\n",
       "75%      35231.500000\n",
       "max      39517.800000\n",
       "Name:  best_distance_avg, dtype: float64"
      ]
     },
     "execution_count": 156,
     "metadata": {},
     "output_type": "execute_result"
    }
   ],
   "source": [
    "p1_mut2_only[' best_distance_avg'].describe()"
   ]
  },
  {
   "cell_type": "code",
   "execution_count": 157,
   "id": "713ca027",
   "metadata": {},
   "outputs": [
    {
     "data": {
      "text/plain": [
       "count       48.000000\n",
       "mean     27550.175000\n",
       "std       7232.944669\n",
       "min      15955.000000\n",
       "25%      20162.000000\n",
       "50%      29076.200000\n",
       "75%      33417.050000\n",
       "max      38529.400000\n",
       "Name:  best_distance_avg, dtype: float64"
      ]
     },
     "execution_count": 157,
     "metadata": {},
     "output_type": "execute_result"
    }
   ],
   "source": [
    "p1_mut3_only[' best_distance_avg'].describe()"
   ]
  },
  {
   "cell_type": "code",
   "execution_count": 158,
   "id": "6a4ad470",
   "metadata": {},
   "outputs": [
    {
     "data": {
      "text/plain": [
       "count       48.000000\n",
       "mean     23189.525000\n",
       "std       5704.143284\n",
       "min      16319.200000\n",
       "25%      19615.250000\n",
       "50%      21402.900000\n",
       "75%      24828.450000\n",
       "max      37670.800000\n",
       "Name:  best_distance_avg, dtype: float64"
      ]
     },
     "execution_count": 158,
     "metadata": {},
     "output_type": "execute_result"
    }
   ],
   "source": [
    "p1_mut4_only[' best_distance_avg'].describe()"
   ]
  },
  {
   "cell_type": "code",
   "execution_count": 159,
   "id": "b9df26c0",
   "metadata": {},
   "outputs": [],
   "source": [
    "#O melhor é mut4. Como vimos no gráfico das correlações, uma mutação maior é melhor. "
   ]
  },
  {
   "cell_type": "markdown",
   "id": "b14d8d23",
   "metadata": {},
   "source": [
    "### 1.4. Conclusões:\n",
    "Para o Problema 1 -> elite size 30, mutation_rate de 10% ou mais, population_size de 300 ou mais, order crossover, invert mutation. numero de generations maior."
   ]
  },
  {
   "cell_type": "code",
   "execution_count": 163,
   "id": "30718d34",
   "metadata": {},
   "outputs": [],
   "source": [
    "p2 = pd.read_csv ('resultsGAp2.csv')   #read the csv file for p2"
   ]
  },
  {
   "cell_type": "markdown",
   "id": "614e59ba",
   "metadata": {},
   "source": [
    "# Problema 2 (tsp225)"
   ]
  },
  {
   "cell_type": "code",
   "execution_count": 165,
   "id": "33ccb56e",
   "metadata": {
    "scrolled": false
   },
   "outputs": [
    {
     "data": {
      "text/html": [
       "<div>\n",
       "<style scoped>\n",
       "    .dataframe tbody tr th:only-of-type {\n",
       "        vertical-align: middle;\n",
       "    }\n",
       "\n",
       "    .dataframe tbody tr th {\n",
       "        vertical-align: top;\n",
       "    }\n",
       "\n",
       "    .dataframe thead th {\n",
       "        text-align: right;\n",
       "    }\n",
       "</style>\n",
       "<table border=\"1\" class=\"dataframe\">\n",
       "  <thead>\n",
       "    <tr style=\"text-align: right;\">\n",
       "      <th></th>\n",
       "      <th>pop_size</th>\n",
       "      <th>elite_size</th>\n",
       "      <th>mut_rate</th>\n",
       "      <th>time_avg (s)</th>\n",
       "      <th>best_distance_avg</th>\n",
       "      <th>nr_generations_avg</th>\n",
       "    </tr>\n",
       "  </thead>\n",
       "  <tbody>\n",
       "    <tr>\n",
       "      <th>count</th>\n",
       "      <td>192.000000</td>\n",
       "      <td>192.000000</td>\n",
       "      <td>192.000000</td>\n",
       "      <td>192.000000</td>\n",
       "      <td>192.000000</td>\n",
       "      <td>192.000000</td>\n",
       "    </tr>\n",
       "    <tr>\n",
       "      <th>mean</th>\n",
       "      <td>176.666667</td>\n",
       "      <td>45.000000</td>\n",
       "      <td>0.027775</td>\n",
       "      <td>78.901460</td>\n",
       "      <td>26489.742708</td>\n",
       "      <td>150.560417</td>\n",
       "    </tr>\n",
       "    <tr>\n",
       "      <th>std</th>\n",
       "      <td>92.012595</td>\n",
       "      <td>15.039216</td>\n",
       "      <td>0.041988</td>\n",
       "      <td>85.107853</td>\n",
       "      <td>6075.505987</td>\n",
       "      <td>85.367483</td>\n",
       "    </tr>\n",
       "    <tr>\n",
       "      <th>min</th>\n",
       "      <td>80.000000</td>\n",
       "      <td>30.000000</td>\n",
       "      <td>0.000100</td>\n",
       "      <td>2.966754</td>\n",
       "      <td>16809.600000</td>\n",
       "      <td>27.400000</td>\n",
       "    </tr>\n",
       "    <tr>\n",
       "      <th>25%</th>\n",
       "      <td>80.000000</td>\n",
       "      <td>30.000000</td>\n",
       "      <td>0.000775</td>\n",
       "      <td>12.635669</td>\n",
       "      <td>20859.150000</td>\n",
       "      <td>53.950000</td>\n",
       "    </tr>\n",
       "    <tr>\n",
       "      <th>50%</th>\n",
       "      <td>150.000000</td>\n",
       "      <td>45.000000</td>\n",
       "      <td>0.005500</td>\n",
       "      <td>50.034330</td>\n",
       "      <td>25411.900000</td>\n",
       "      <td>162.700000</td>\n",
       "    </tr>\n",
       "    <tr>\n",
       "      <th>75%</th>\n",
       "      <td>300.000000</td>\n",
       "      <td>60.000000</td>\n",
       "      <td>0.032500</td>\n",
       "      <td>95.060479</td>\n",
       "      <td>32227.500000</td>\n",
       "      <td>247.250000</td>\n",
       "    </tr>\n",
       "    <tr>\n",
       "      <th>max</th>\n",
       "      <td>300.000000</td>\n",
       "      <td>60.000000</td>\n",
       "      <td>0.100000</td>\n",
       "      <td>270.291238</td>\n",
       "      <td>36421.800000</td>\n",
       "      <td>250.000000</td>\n",
       "    </tr>\n",
       "  </tbody>\n",
       "</table>\n",
       "</div>"
      ],
      "text/plain": [
       "         pop_size   elite_size    mut_rate   time_avg (s)   best_distance_avg  \\\n",
       "count  192.000000   192.000000  192.000000     192.000000          192.000000   \n",
       "mean   176.666667    45.000000    0.027775      78.901460        26489.742708   \n",
       "std     92.012595    15.039216    0.041988      85.107853         6075.505987   \n",
       "min     80.000000    30.000000    0.000100       2.966754        16809.600000   \n",
       "25%     80.000000    30.000000    0.000775      12.635669        20859.150000   \n",
       "50%    150.000000    45.000000    0.005500      50.034330        25411.900000   \n",
       "75%    300.000000    60.000000    0.032500      95.060479        32227.500000   \n",
       "max    300.000000    60.000000    0.100000     270.291238        36421.800000   \n",
       "\n",
       "         nr_generations_avg  \n",
       "count            192.000000  \n",
       "mean             150.560417  \n",
       "std               85.367483  \n",
       "min               27.400000  \n",
       "25%               53.950000  \n",
       "50%              162.700000  \n",
       "75%              247.250000  \n",
       "max              250.000000  "
      ]
     },
     "execution_count": 165,
     "metadata": {},
     "output_type": "execute_result"
    }
   ],
   "source": [
    "p2.describe() ##a minima distancia que atingimos é 16809. o desvio padrão é alto (6075), ou seja, a distancia depende muito da escolha dos hyperparametros.\n",
    "#a média e mediana do numero de generations ronda os 150/160, o que significa que o algoritmo na maioria das vezes para antes das 250 generations fixas. provavelmente está a haver pouca exploração das soluções, pois isto significa que o algoritmo ficou preso num mínimo local (que sabemos que não é global, pois a solução ótima é 3916)."
   ]
  },
  {
   "cell_type": "markdown",
   "id": "df4a16e8",
   "metadata": {},
   "source": [
    "# 2.1. Correlação entre numéricas (todas exceto mut_type e cross_type)"
   ]
  },
  {
   "cell_type": "code",
   "execution_count": 167,
   "id": "812da44c",
   "metadata": {},
   "outputs": [
    {
     "data": {
      "text/plain": [
       "(array([0.5, 1.5, 2.5, 3.5, 4.5, 5.5]),\n",
       " [Text(0.5, 0, 'pop_size'),\n",
       "  Text(1.5, 0, ' elite_size'),\n",
       "  Text(2.5, 0, ' mut_rate'),\n",
       "  Text(3.5, 0, ' time_avg (s)'),\n",
       "  Text(4.5, 0, ' best_distance_avg'),\n",
       "  Text(5.5, 0, '  nr_generations_avg')])"
      ]
     },
     "execution_count": 167,
     "metadata": {},
     "output_type": "execute_result"
    },
    {
     "data": {
      "image/png": "[encoded data removed]",
      "text/plain": [
       "<Figure size 864x360 with 2 Axes>"
      ]
     },
     "metadata": {
      "needs_background": "light"
     },
     "output_type": "display_data"
    }
   ],
   "source": [
    "import matplotlib.pyplot as plt\n",
    "import seaborn as sns\n",
    "\n",
    "plt.subplots(figsize=(12,5))\n",
    "gender_correlation=p2.corr()\n",
    "sns.heatmap(gender_correlation,annot=True,cmap='RdPu')\n",
    "plt.title('Correlation between the numerical variables')\n",
    "plt.xticks(rotation=45)                                           \n",
    "\n",
    "#daqui vemos que a variável que tem mais correlação com a solução é o nr de generations e o pop size. no entanto, é negativa. \n",
    "#ou seja, quanto maior a população, menor a distancia, e melhor a solução.\n",
    "#quanto maior os nr de gerações, menor a distancia, e melhor a solução.\n",
    "#nota que, quanto maior a mutation rate, maior o nr de gerações.\n",
    "\n",
    "#Assim, aumentando a mutation rate, aumenta o nr de gerações, que diminui a distância. \n",
    "#Este facto, faz sentido pois se aumentarmos a mutation rate, aumentamos também a exploração de diferente soluções,\n",
    "#o que faz com que o algoritmo tenha necessidade de correr durante mais tempo e consiga atingir melhores soluções."
   ]
  },
  {
   "cell_type": "markdown",
   "id": "9d2b3e32",
   "metadata": {},
   "source": [
    "# 2.2.  Influência entre Mut_type e Cross_type e Distância\n",
    "\n",
    "Para ver a influencia que as categóricas (mut_type) e (cross_type) tem na variável resposta, distância,\n",
    "vamos fazer um teste não paramétrico (kruskal wallis) para comparaçao das médias."
   ]
  },
  {
   "cell_type": "code",
   "execution_count": 171,
   "id": "6335b428",
   "metadata": {},
   "outputs": [],
   "source": [
    "#Mutation type\n",
    "searchString = \"swap\"\n",
    "p2_swap_only=p2.loc[p2[' mut_type'].str.contains(searchString, regex=False)]\n",
    "searchString = \"invert\"\n",
    "p2_invert_only=p2.loc[p2[' mut_type'].str.contains(searchString, regex=False)]\n",
    "searchString = \"insert\"\n",
    "p2_insert_only=p2.loc[p2[' mut_type'].str.contains(searchString, regex=False)]\n",
    "searchString = \"disp\"\n",
    "p2_disp_only=p2.loc[p2[' mut_type'].str.contains(searchString, regex=False)]\n",
    "\n",
    "#Crossover type\n",
    "searchString = \"order\"\n",
    "p2_order_only=p2.loc[p2[' cross_type'].str.contains(searchString, regex=False)]\n",
    "searchString = \"cycle\"\n",
    "p2_cycle_only=p2.loc[p2[' cross_type'].str.contains(searchString, regex=False)]\n",
    "\n",
    "#Population Size\n",
    "p2_80_only=p2.loc[p2['pop_size'] == 80]\n",
    "p2_150_only=p2.loc[p2['pop_size'] == 150]\n",
    "p2_300_only=p2.loc[p2['pop_size'] == 300]\n",
    "\n",
    "\n",
    "#Elite Size\n",
    "p2_30_only=p2.loc[p2[' elite_size'] == 30]\n",
    "p2_60_only=p2.loc[p2[' elite_size'] == 60]\n",
    "\n",
    "\n",
    "#Mutation rate\n",
    "p2_mut1_only=p2.loc[p2[' mut_rate'] == 0.0001]\n",
    "p2_mut2_only=p2.loc[p2[' mut_rate'] == 0.001]\n",
    "p2_mut3_only=p2.loc[p2[' mut_rate'] == 0.01]\n",
    "p2_mut4_only=p2.loc[p2[' mut_rate'] == 0.1]"
   ]
  },
  {
   "cell_type": "code",
   "execution_count": 169,
   "id": "60107e61",
   "metadata": {},
   "outputs": [
    {
     "data": {
      "text/plain": [
       "KruskalResult(statistic=0.09635416666662877, pvalue=0.9922713197387499)"
      ]
     },
     "execution_count": 169,
     "metadata": {},
     "output_type": "execute_result"
    }
   ],
   "source": [
    "from scipy import stats\n",
    "x = p2_swap_only[' best_distance_avg']\n",
    "y = p2_invert_only[' best_distance_avg']\n",
    "z = p2_insert_only[' best_distance_avg']\n",
    "w = p2_disp_only[' best_distance_avg']\n",
    "stats.kruskal(x, y, z, w)\n",
    "\n",
    "#Como o p-value é muito grande, podemos concluir que não existem diferenças significativas entre os grupos. no significant differences between the groups.\n",
    "#Logo, o tipo de mutação não parece influenciar muito a distância."
   ]
  },
  {
   "cell_type": "code",
   "execution_count": 172,
   "id": "9e103e3e",
   "metadata": {
    "scrolled": true
   },
   "outputs": [
    {
     "data": {
      "text/plain": [
       "KruskalResult(statistic=87.62964162348885, pvalue=7.893282332651128e-21)"
      ]
     },
     "execution_count": 172,
     "metadata": {},
     "output_type": "execute_result"
    }
   ],
   "source": [
    "x = p2_order_only[' best_distance_avg']\n",
    "y = p2_cycle_only[' best_distance_avg']\n",
    "stats.kruskal(x, y)\n",
    "\n",
    "#Como o p-value é menor que 5%, podemos concluir que existem diferenças significativas entre os grupos.\n",
    "#Logo, o tipo de crossover parece influenciar muito a distância."
   ]
  },
  {
   "cell_type": "markdown",
   "id": "4e23d940",
   "metadata": {},
   "source": [
    "# 2.3. Análise por cada hyper-parametro\n"
   ]
  },
  {
   "cell_type": "markdown",
   "id": "79f530fc",
   "metadata": {},
   "source": [
    "## 2.3.1. Análise por tipo de crossover"
   ]
  },
  {
   "cell_type": "code",
   "execution_count": 173,
   "id": "e1140a19",
   "metadata": {},
   "outputs": [
    {
     "data": {
      "text/plain": [
       "count       96.000000\n",
       "mean     22386.847917\n",
       "std       4720.339714\n",
       "min      16809.600000\n",
       "25%      19091.250000\n",
       "50%      20835.100000\n",
       "75%      23662.300000\n",
       "max      34233.400000\n",
       "Name:  best_distance_avg, dtype: float64"
      ]
     },
     "execution_count": 173,
     "metadata": {},
     "output_type": "execute_result"
    }
   ],
   "source": [
    "p2_order_only[' best_distance_avg'].describe()"
   ]
  },
  {
   "cell_type": "code",
   "execution_count": 174,
   "id": "75f0c8fe",
   "metadata": {},
   "outputs": [
    {
     "data": {
      "text/plain": [
       "count       96.000000\n",
       "mean     30592.637500\n",
       "std       4231.855147\n",
       "min      21781.800000\n",
       "25%      27779.850000\n",
       "50%      31583.500000\n",
       "75%      33783.600000\n",
       "max      36421.800000\n",
       "Name:  best_distance_avg, dtype: float64"
      ]
     },
     "execution_count": 174,
     "metadata": {},
     "output_type": "execute_result"
    }
   ],
   "source": [
    "p2_cycle_only[' best_distance_avg'].describe()"
   ]
  },
  {
   "cell_type": "code",
   "execution_count": 175,
   "id": "33aee4c1",
   "metadata": {},
   "outputs": [],
   "source": [
    "##Analisando por tipo de crossover, parece que o order crossover traz melhores resultados. O máximo de distancia atingido é menor, \n",
    "#a média é menor, a mediana é menor, e é com este que se atinge o valor mínimo de 16809.\n",
    "\n",
    "#Por isso, se calhar é melhor fazer mais runs com o order crossover."
   ]
  },
  {
   "cell_type": "markdown",
   "id": "54a2ba21",
   "metadata": {},
   "source": [
    "## 2.3.2. Análise por tipo de mutação"
   ]
  },
  {
   "cell_type": "code",
   "execution_count": 176,
   "id": "7b9fcbc0",
   "metadata": {},
   "outputs": [
    {
     "data": {
      "text/plain": [
       "count       48.000000\n",
       "mean     26578.083333\n",
       "std       5995.148252\n",
       "min      18045.200000\n",
       "25%      20455.750000\n",
       "50%      25351.400000\n",
       "75%      31836.400000\n",
       "max      35548.600000\n",
       "Name:  best_distance_avg, dtype: float64"
      ]
     },
     "execution_count": 176,
     "metadata": {},
     "output_type": "execute_result"
    }
   ],
   "source": [
    "p2_swap_only[' best_distance_avg'].describe()"
   ]
  },
  {
   "cell_type": "code",
   "execution_count": 177,
   "id": "14250b8e",
   "metadata": {},
   "outputs": [
    {
     "data": {
      "text/plain": [
       "count       48.000000\n",
       "mean     26574.541667\n",
       "std       5975.351690\n",
       "min      17845.000000\n",
       "25%      21712.300000\n",
       "50%      25240.900000\n",
       "75%      32586.350000\n",
       "max      35834.400000\n",
       "Name:  best_distance_avg, dtype: float64"
      ]
     },
     "execution_count": 177,
     "metadata": {},
     "output_type": "execute_result"
    }
   ],
   "source": [
    "p2_insert_only[' best_distance_avg'].describe()"
   ]
  },
  {
   "cell_type": "code",
   "execution_count": 178,
   "id": "cdd6170d",
   "metadata": {},
   "outputs": [
    {
     "data": {
      "text/plain": [
       "count       48.000000\n",
       "mean     26488.037500\n",
       "std       6304.854137\n",
       "min      17010.000000\n",
       "25%      20905.400000\n",
       "50%      25345.300000\n",
       "75%      32645.350000\n",
       "max      35828.200000\n",
       "Name:  best_distance_avg, dtype: float64"
      ]
     },
     "execution_count": 178,
     "metadata": {},
     "output_type": "execute_result"
    }
   ],
   "source": [
    "p2_invert_only[' best_distance_avg'].describe()"
   ]
  },
  {
   "cell_type": "code",
   "execution_count": 179,
   "id": "45d734f1",
   "metadata": {},
   "outputs": [
    {
     "data": {
      "text/plain": [
       "count       48.000000\n",
       "mean     26318.308333\n",
       "std       6209.671052\n",
       "min      16809.600000\n",
       "25%      20530.500000\n",
       "50%      25783.900000\n",
       "75%      31914.100000\n",
       "max      36421.800000\n",
       "Name:  best_distance_avg, dtype: float64"
      ]
     },
     "execution_count": 179,
     "metadata": {},
     "output_type": "execute_result"
    }
   ],
   "source": [
    "p2_disp_only[' best_distance_avg'].describe()"
   ]
  },
  {
   "cell_type": "code",
   "execution_count": 129,
   "id": "be3d4ed0",
   "metadata": {},
   "outputs": [],
   "source": [
    "##Lá em cima, vimos que o tipo de mutação não parece influenciar a distância. \n",
    "#De facto, os valores médios e medianos são todos muito parecidos. O valor mínimo da distancia e da mediana é obtido com\n",
    "#displacement mutation, apesar de esta ser também a que possui a mediana maior.\n",
    "#Mas como a distancia nao parece depender do tipo de mutação, pode-se fazer mais runs com a disp mutation."
   ]
  },
  {
   "cell_type": "markdown",
   "id": "1ac441b4",
   "metadata": {},
   "source": [
    "## 2.3.3. Análise por population size"
   ]
  },
  {
   "cell_type": "code",
   "execution_count": 180,
   "id": "cad047a9",
   "metadata": {},
   "outputs": [],
   "source": [
    "p2_80_only=p2.loc[p2['pop_size'] == 80]\n",
    "p2_150_only=p2.loc[p2['pop_size'] == 150]\n",
    "p2_300_only=p2.loc[p2['pop_size'] == 300]\n",
    "\n",
    "\n",
    "#Elite Size\n",
    "p2_30_only=p2.loc[p2[' elite_size'] == 30]\n",
    "p2_60_only=p2.loc[p2[' elite_size'] == 60]\n",
    "\n",
    "\n",
    "#Mutation rate\n",
    "p2_mut1_only=p2.loc[p2[' mut_rate'] == 0.0001]\n",
    "p2_mut2_only=p2.loc[p2[' mut_rate'] == 0.001]\n",
    "p2_mut3_only=p2.loc[p2[' mut_rate'] == 0.01]\n",
    "p2_mut4_only=p2.loc[p2[' mut_rate'] == 0.1]"
   ]
  },
  {
   "cell_type": "code",
   "execution_count": 181,
   "id": "f3b204be",
   "metadata": {},
   "outputs": [
    {
     "data": {
      "text/plain": [
       "count       64.000000\n",
       "mean     30533.346875\n",
       "std       5205.451652\n",
       "min      18941.600000\n",
       "25%      25425.750000\n",
       "50%      32790.900000\n",
       "75%      34814.700000\n",
       "max      36421.800000\n",
       "Name:  best_distance_avg, dtype: float64"
      ]
     },
     "execution_count": 181,
     "metadata": {},
     "output_type": "execute_result"
    }
   ],
   "source": [
    "p2_80_only[' best_distance_avg'].describe()"
   ]
  },
  {
   "cell_type": "code",
   "execution_count": 182,
   "id": "6e7e1bd4",
   "metadata": {},
   "outputs": [
    {
     "data": {
      "text/plain": [
       "count       64.000000\n",
       "mean     25448.646875\n",
       "std       5512.612846\n",
       "min      17711.000000\n",
       "25%      21105.100000\n",
       "50%      23229.400000\n",
       "75%      31828.150000\n",
       "max      33769.200000\n",
       "Name:  best_distance_avg, dtype: float64"
      ]
     },
     "execution_count": 182,
     "metadata": {},
     "output_type": "execute_result"
    }
   ],
   "source": [
    "p2_150_only[' best_distance_avg'].describe()"
   ]
  },
  {
   "cell_type": "code",
   "execution_count": 183,
   "id": "11e8c0b6",
   "metadata": {},
   "outputs": [
    {
     "data": {
      "text/plain": [
       "count       64.000000\n",
       "mean     23487.234375\n",
       "std       5248.998618\n",
       "min      16809.600000\n",
       "25%      19091.250000\n",
       "50%      21812.900000\n",
       "75%      28756.700000\n",
       "max      31812.600000\n",
       "Name:  best_distance_avg, dtype: float64"
      ]
     },
     "execution_count": 183,
     "metadata": {},
     "output_type": "execute_result"
    }
   ],
   "source": [
    "p2_300_only[' best_distance_avg'].describe()"
   ]
  },
  {
   "cell_type": "code",
   "execution_count": 150,
   "id": "69185ed7",
   "metadata": {},
   "outputs": [],
   "source": [
    "#O population size, como vimos na tabela das correlações acima, era negativamente correlacionado com a distância, logo\n",
    "#um maior population size é melhor. \n",
    "#Além disso, possui melhores valores em todos os parâmetros."
   ]
  },
  {
   "cell_type": "markdown",
   "id": "21010506",
   "metadata": {},
   "source": [
    "## 2.3.4. Análise por elite size"
   ]
  },
  {
   "cell_type": "code",
   "execution_count": 184,
   "id": "2cb91dd1",
   "metadata": {},
   "outputs": [
    {
     "data": {
      "text/plain": [
       "count       96.000000\n",
       "mean     25500.964583\n",
       "std       5623.658413\n",
       "min      17711.000000\n",
       "25%      20502.850000\n",
       "50%      24110.800000\n",
       "75%      30975.550000\n",
       "max      35105.200000\n",
       "Name:  best_distance_avg, dtype: float64"
      ]
     },
     "execution_count": 184,
     "metadata": {},
     "output_type": "execute_result"
    }
   ],
   "source": [
    "p2_30_only[' best_distance_avg'].describe()"
   ]
  },
  {
   "cell_type": "code",
   "execution_count": 185,
   "id": "360bd90a",
   "metadata": {},
   "outputs": [
    {
     "data": {
      "text/plain": [
       "count       96.000000\n",
       "mean     27478.520833\n",
       "std       6372.645440\n",
       "min      16809.600000\n",
       "25%      21406.400000\n",
       "50%      30635.600000\n",
       "75%      32842.450000\n",
       "max      36421.800000\n",
       "Name:  best_distance_avg, dtype: float64"
      ]
     },
     "execution_count": 185,
     "metadata": {},
     "output_type": "execute_result"
    }
   ],
   "source": [
    "p2_60_only[' best_distance_avg'].describe()"
   ]
  },
  {
   "cell_type": "code",
   "execution_count": 160,
   "id": "f344e358",
   "metadata": {},
   "outputs": [],
   "source": [
    "###Como foi visto na tabela das correlações, não há grande diferença entre o elite_size e a distância."
   ]
  },
  {
   "cell_type": "markdown",
   "id": "f830f0cd",
   "metadata": {},
   "source": [
    "## 2.3.5. Análise por mutation rate"
   ]
  },
  {
   "cell_type": "code",
   "execution_count": 186,
   "id": "a5649c48",
   "metadata": {},
   "outputs": [
    {
     "data": {
      "text/plain": [
       "count       48.000000\n",
       "mean     28108.137500\n",
       "std       5863.165725\n",
       "min      18352.800000\n",
       "25%      22064.600000\n",
       "50%      30722.200000\n",
       "75%      32700.650000\n",
       "max      35858.400000\n",
       "Name:  best_distance_avg, dtype: float64"
      ]
     },
     "execution_count": 186,
     "metadata": {},
     "output_type": "execute_result"
    }
   ],
   "source": [
    "p2_mut1_only[' best_distance_avg'].describe()"
   ]
  },
  {
   "cell_type": "code",
   "execution_count": 187,
   "id": "b0849ab5",
   "metadata": {},
   "outputs": [
    {
     "data": {
      "text/plain": [
       "count       48.000000\n",
       "mean     28135.866667\n",
       "std       6118.777360\n",
       "min      18195.400000\n",
       "25%      21987.700000\n",
       "50%      30969.900000\n",
       "75%      33138.750000\n",
       "max      35832.000000\n",
       "Name:  best_distance_avg, dtype: float64"
      ]
     },
     "execution_count": 187,
     "metadata": {},
     "output_type": "execute_result"
    }
   ],
   "source": [
    "p2_mut2_only[' best_distance_avg'].describe()"
   ]
  },
  {
   "cell_type": "code",
   "execution_count": 188,
   "id": "01334813",
   "metadata": {},
   "outputs": [
    {
     "data": {
      "text/plain": [
       "count       48.000000\n",
       "mean     26227.208333\n",
       "std       6444.578707\n",
       "min      16809.600000\n",
       "25%      19706.000000\n",
       "50%      27703.700000\n",
       "75%      31217.550000\n",
       "max      36421.800000\n",
       "Name:  best_distance_avg, dtype: float64"
      ]
     },
     "execution_count": 188,
     "metadata": {},
     "output_type": "execute_result"
    }
   ],
   "source": [
    "p2_mut3_only[' best_distance_avg'].describe()"
   ]
  },
  {
   "cell_type": "code",
   "execution_count": 189,
   "id": "7d44a27b",
   "metadata": {},
   "outputs": [
    {
     "data": {
      "text/plain": [
       "count       48.000000\n",
       "mean     23487.758333\n",
       "std       4683.809164\n",
       "min      17711.000000\n",
       "25%      20118.650000\n",
       "50%      22128.400000\n",
       "75%      24986.850000\n",
       "max      34987.000000\n",
       "Name:  best_distance_avg, dtype: float64"
      ]
     },
     "execution_count": 189,
     "metadata": {},
     "output_type": "execute_result"
    }
   ],
   "source": [
    "p2_mut4_only[' best_distance_avg'].describe()"
   ]
  },
  {
   "cell_type": "code",
   "execution_count": 190,
   "id": "f65081e2",
   "metadata": {},
   "outputs": [],
   "source": [
    "#O melhor é mut4. Como vimos no gráfico das correlações, uma mutação maior é melhor. Apesar do valor minimo atingido ser com mut3, a mut4 é a melhor em todos os outros valores."
   ]
  },
  {
   "cell_type": "markdown",
   "id": "419f7a90",
   "metadata": {},
   "source": [
    "### 2.4 Conclusões:\n",
    "Para o Problema 2 -> elite size 30, mutation_rate de 10% ou mais, population_size de 300 ou mais, order crossover, disp mutation"
   ]
  }
 ],
 "metadata": {
  "kernelspec": {
   "display_name": "Python 3 (ipykernel)",
   "language": "python",
   "name": "python3"
  },
  "language_info": {
   "codemirror_mode": {
    "name": "ipython",
    "version": 3
   },
   "file_extension": ".py",
   "mimetype": "text/x-python",
   "name": "python",
   "nbconvert_exporter": "python",
   "pygments_lexer": "ipython3",
   "version": "3.9.7"
  }
 },
 "nbformat": 4,
 "nbformat_minor": 5
}
